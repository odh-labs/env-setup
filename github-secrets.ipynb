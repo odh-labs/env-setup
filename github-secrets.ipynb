{
 "cells": [
  {
   "cell_type": "code",
   "execution_count": 1,
   "id": "b2f00f3c-3f74-4e5d-b9a1-5c7d8fd89897",
   "metadata": {},
   "outputs": [],
   "source": [
    "import os"
   ]
  },
  {
   "cell_type": "code",
   "execution_count": 2,
   "id": "0360886e-4a42-442e-adc5-44265835d6cc",
   "metadata": {},
   "outputs": [
    {
     "name": "stdout",
     "output_type": "stream",
     "text": [
      "Generating secrets for ODH Workshops and Labs.\n",
      "**************************************************\n"
     ]
    }
   ],
   "source": [
    "print(\"Generating secrets for ODH Workshops and Labs.\")\n",
    "print(\"*\"*50)"
   ]
  },
  {
   "cell_type": "code",
   "execution_count": 3,
   "id": "37225c50-d711-489f-b140-df86a5a4f302",
   "metadata": {},
   "outputs": [],
   "source": [
    "directory = \"$HOME/.ssh\"\n",
    "key_file = \"id_rsa2\""
   ]
  },
  {
   "cell_type": "code",
   "execution_count": 4,
   "id": "e708b0fa-6495-4acf-acff-2a05a2149ca5",
   "metadata": {},
   "outputs": [
    {
     "name": "stdout",
     "output_type": "stream",
     "text": [
      "ssh-keygen -t rsa -f \"$HOME/.ssh/id_rsa2\" -P \"\"\n",
      "Generating public/private rsa key pair.\n",
      "Your identification has been saved in /opt/app-root/src/.ssh/id_rsa2.\n",
      "Your public key has been saved in /opt/app-root/src/.ssh/id_rsa2.pub.\n",
      "The key fingerprint is:\n",
      "SHA256:aGvkivcRyh/zxp/59nnyukHTH2n3SL/vbG3bF4PCxEE 1000970000@jupyterhub-nb-brbaker-40redhat-2ecom\n",
      "The key's randomart image is:\n",
      "+---[RSA 3072]----+\n",
      "|          .E     |\n",
      "|           .     |\n",
      "|          . .    |\n",
      "|       .   o   ..|\n",
      "|      = S o   =+o|\n",
      "|   . = o   o +.*=|\n",
      "|    o B.    . o B|\n",
      "|   ..+ =o  o. .+O|\n",
      "|  ....o...+o..=%X|\n",
      "+----[SHA256]-----+\n",
      "chmod 600 \"$HOME/.ssh/id_rsa2*\"\n",
      "ls -l $HOME/.ssh\n",
      "total 24\n",
      "-rw-------. 1 1000970000 1000970000 2643 Jun  6 04:18 id_rsa\n",
      "-rw-------. 1 1000970000 1000970000 2643 Jun  6 04:22 id_rsa2\n",
      "-rw-r--r--. 1 1000970000 1000970000  601 Jun  6 04:22 id_rsa2.pub\n",
      "-rw-------. 1 1000970000 1000970000  601 Jun  6 04:18 id_rsa.pub\n",
      "-rw-rw-r--. 1 1000970000 1000970000 1055 Mar 22 07:03 known_hosts\n",
      "drwxr-sr-x. 2 1000970000 1000970000 4096 Jun  6 03:18 SAFE\n"
     ]
    },
    {
     "name": "stderr",
     "output_type": "stream",
     "text": [
      "chmod: cannot access '/opt/app-root/src/.ssh/id_rsa2*': No such file or directory\n"
     ]
    },
    {
     "data": {
      "text/plain": [
       "0"
      ]
     },
     "execution_count": 4,
     "metadata": {},
     "output_type": "execute_result"
    }
   ],
   "source": [
    "# Generate the secret\n",
    "cmd = 'ssh-keygen -t rsa -f \"'+directory+'/'+key_file +'\" -P \"\"'\n",
    "print(cmd)\n",
    "os.system(cmd)\n",
    "\n",
    "# Set the file permissions\n",
    "cmd = 'chmod 600 \"'+directory+'/'+key_file +'*\"'\n",
    "print(cmd)\n",
    "os.system(cmd)\n",
    "\n",
    "cmd = 'ls -l ' + directory\n",
    "print(cmd)\n",
    "os.system(cmd)"
   ]
  },
  {
   "cell_type": "code",
   "execution_count": 5,
   "id": "1f736f43-d5b0-4892-ad6d-094a0b309882",
   "metadata": {},
   "outputs": [
    {
     "name": "stdout",
     "output_type": "stream",
     "text": [
      "ssh-rsa AAAAB3NzaC1yc2EAAAADAQABAAABgQC4dDTX3dUGsX1cpHacoco8kqKowc4SwBYsW3/sMdHVPcFySOpNn3gy4AUu44lrCJ2apxgEhHUK8FLY06pZ3H2u5tHaRVab2X6G33MDgLijeS83UWXVmCrLaCvQbSH9T6he7BZd/oKMCstB+su4xbeUI4TDttnPdIwNOB0Jvy4pAj2s75gXxR9TnDJ859PP1rz4VWGJWNWXKX7trH+LwRes6dE3QlEOS8YX86y/nwNFtIZbNEqrUxr12G4AwS/VNm0/qeeFQSDJEoyGQ8nyEJ2IVY7O9BEXUcYlpbSoRmMPk49DgFCMi1FWEXnH37LGmUm4yNNeons/T8A2eQh3qJbHl2aenuB/A2E5WFci+JG1ecsj6vX242REe6XCGGSkMtkAyYxmWRtDb1vaMmYhg52u32ssR1tSFpe81doVA9QUEbRWVzleFjDIPyg+Bs/diHMK8VQfBhi3vTAfr0pvPnf3HzINMJJ0/IX6vKqmXWjCaBxUbLe3Om8Q2TcUk4JMsR8= 1000970000@jupyterhub-nb-brbaker-40redhat-2ecom\n"
     ]
    },
    {
     "data": {
      "text/plain": [
       "0"
      ]
     },
     "execution_count": 5,
     "metadata": {},
     "output_type": "execute_result"
    }
   ],
   "source": [
    "cmd =  \"cat \"+directory+'/'+key_file+\".pub\" \n",
    "os.system(cmd)"
   ]
  },
  {
   "cell_type": "code",
   "execution_count": 6,
   "id": "0faa937a-56ae-47f1-9b72-85a674edf965",
   "metadata": {},
   "outputs": [
    {
     "name": "stdout",
     "output_type": "stream",
     "text": [
      "NEXT STEPS:\n",
      "***********\n",
      "Copy the secret above to the Clipboard and add it to github as described in the lab instructions.\n"
     ]
    }
   ],
   "source": [
    "print(\"NEXT STEPS:\")\n",
    "print(\"*\"*11)\n",
    "print(\"Copy the secret above to the Clipboard and add it to github as described in the lab instructions.\") "
   ]
  },
  {
   "cell_type": "code",
   "execution_count": null,
   "id": "0a348e64-fb54-4f83-b6bc-9bd090f95305",
   "metadata": {},
   "outputs": [],
   "source": []
  }
 ],
 "metadata": {
  "kernelspec": {
   "display_name": "Python 3 (ipykernel)",
   "language": "python",
   "name": "python3"
  },
  "language_info": {
   "codemirror_mode": {
    "name": "ipython",
    "version": 3
   },
   "file_extension": ".py",
   "mimetype": "text/x-python",
   "name": "python",
   "nbconvert_exporter": "python",
   "pygments_lexer": "ipython3",
   "version": "3.8.8"
  }
 },
 "nbformat": 4,
 "nbformat_minor": 5
}
