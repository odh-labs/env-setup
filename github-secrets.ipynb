{
 "cells": [
  {
   "cell_type": "code",
   "execution_count": null,
   "id": "b2f00f3c-3f74-4e5d-b9a1-5c7d8fd89897",
   "metadata": {},
   "outputs": [],
   "source": [
    "import os"
   ]
  },
  {
   "cell_type": "code",
   "execution_count": null,
   "id": "0360886e-4a42-442e-adc5-44265835d6cc",
   "metadata": {},
   "outputs": [],
   "source": [
    "print(\"Generating secrets for ODH Workshops and Labs.\")\n",
    "print(\"*\"*50)"
   ]
  },
  {
   "cell_type": "code",
   "execution_count": null,
   "id": "37225c50-d711-489f-b140-df86a5a4f302",
   "metadata": {},
   "outputs": [],
   "source": [
    "directory = \"$HOME/.ssh\"\n",
    "key_file = \"id_rsa2\""
   ]
  },
  {
   "cell_type": "code",
   "execution_count": null,
   "id": "e708b0fa-6495-4acf-acff-2a05a2149ca5",
   "metadata": {},
   "outputs": [],
   "source": [
    "# Generate the secret\n",
    "cmd = 'ssh-keygen -t rsa -f \"'+directory+'/'+key_file +'\" -P \"\"'\n",
    "print(cmd)\n",
    "os.system(cmd)\n",
    "\n",
    "# Set the file permissions\n",
    "cmd = 'chmod 600 '+directory+'/'+key_file +'*'\n",
    "print(cmd)\n",
    "os.system(cmd)\n",
    "\n",
    "cmd = 'ls -l ' + directory\n",
    "print(cmd)\n",
    "os.system(cmd)"
   ]
  },
  {
   "cell_type": "code",
   "execution_count": null,
   "id": "1f736f43-d5b0-4892-ad6d-094a0b309882",
   "metadata": {},
   "outputs": [],
   "source": [
    "cmd =  \"cat \"+directory+'/'+key_file+\".pub\" \n",
    "os.system(cmd)"
   ]
  },
  {
   "cell_type": "code",
   "execution_count": null,
   "id": "0faa937a-56ae-47f1-9b72-85a674edf965",
   "metadata": {},
   "outputs": [],
   "source": [
    "print(\"NEXT STEPS:\")\n",
    "print(\"*\"*11)\n",
    "print(\"Copy the secret above to the Clipboard and add it to github as described in the lab instructions.\") "
   ]
  }
 ],
 "metadata": {
  "kernelspec": {
   "display_name": "Python 3 (ipykernel)",
   "language": "python",
   "name": "python3"
  },
  "language_info": {
   "codemirror_mode": {
    "name": "ipython",
    "version": 3
   },
   "file_extension": ".py",
   "mimetype": "text/x-python",
   "name": "python",
   "nbconvert_exporter": "python",
   "pygments_lexer": "ipython3",
   "version": "3.8.8"
  }
 },
 "nbformat": 4,
 "nbformat_minor": 5
}
