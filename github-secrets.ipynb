{
 "cells": [
  {
   "cell_type": "code",
   "execution_count": 9,
   "id": "b2f00f3c-3f74-4e5d-b9a1-5c7d8fd89897",
   "metadata": {},
   "outputs": [],
   "source": [
    "import os"
   ]
  },
  {
   "cell_type": "code",
   "execution_count": 10,
   "id": "0360886e-4a42-442e-adc5-44265835d6cc",
   "metadata": {},
   "outputs": [
    {
     "name": "stdout",
     "output_type": "stream",
     "text": [
      "Generating secrets for ODH Workshops and Labs.\n",
      "**************************************************\n"
     ]
    }
   ],
   "source": [
    "print(\"Generating secrets for ODH Workshops and Labs.\")\n",
    "print(\"*\"*50)"
   ]
  },
  {
   "cell_type": "code",
   "execution_count": 13,
   "id": "37225c50-d711-489f-b140-df86a5a4f302",
   "metadata": {},
   "outputs": [],
   "source": [
    "directory = \"$HOME/.ssh/\"\n",
    "key_file = \"id_rsa2\""
   ]
  },
  {
   "cell_type": "code",
   "execution_count": 14,
   "id": "e708b0fa-6495-4acf-acff-2a05a2149ca5",
   "metadata": {},
   "outputs": [
    {
     "name": "stdout",
     "output_type": "stream",
     "text": [
      "ssh-keygen -t rsa -f \"$HOME/.ssh/id_rsa2\" -P \"\"\n",
      "Generating public/private rsa key pair.\n",
      "Your identification has been saved in /opt/app-root/src/.ssh/id_rsa2.\n",
      "Your public key has been saved in /opt/app-root/src/.ssh/id_rsa2.pub.\n",
      "The key fingerprint is:\n",
      "SHA256:whebgQGt8hVz4G/ax2sx5lBj23FGqvdsFXsruHTlP8Q 1000970000@jupyterhub-nb-brbaker-40redhat-2ecom\n",
      "The key's randomart image is:\n",
      "+---[RSA 3072]----+\n",
      "|    .oo.         |\n",
      "|     .+o.     .  |\n",
      "|     .o+o    o   |\n",
      "|  . .... =+ o o. |\n",
      "|   o .o So = +..o|\n",
      "|    .  *..* o oEo|\n",
      "|      . .+o=.+.oo|\n",
      "|         .+o..+o.|\n",
      "|         ...... o|\n",
      "+----[SHA256]-----+\n"
     ]
    },
    {
     "data": {
      "text/plain": [
       "0"
      ]
     },
     "execution_count": 14,
     "metadata": {},
     "output_type": "execute_result"
    }
   ],
   "source": [
    "cmd = 'ssh-keygen -t rsa -f \"'+directory+key_file +'\" -P \"\"'\n",
    "print(cmd)\n",
    "os.system(cmd)"
   ]
  },
  {
   "cell_type": "code",
   "execution_count": 15,
   "id": "1f736f43-d5b0-4892-ad6d-094a0b309882",
   "metadata": {},
   "outputs": [
    {
     "name": "stdout",
     "output_type": "stream",
     "text": [
      "ssh-rsa AAAAB3NzaC1yc2EAAAADAQABAAABgQCcJDx3nY6tQUmEh5DnMTW38H1VZC9yoevibgAJ/U8FpH3Kl7m7Iv71mp2BCp4M1VE5M3K14LE8mvcGyHMKrzFfEt8XQdQGEbdm8j9NLJKe7jFE37HUjso1M7g6NCpsdFAd26GkRP9DB4nCqYWUMsJZCIBz1Nj1+XRgEt4B0oJNOeqwQ6x76289zWz6gfxcv8kqNQ836NqnMkCp1G5swFjjQECNwu+ujuBF4G1yk0dy+Knp7uHc2rHcYw9iAmDLz0SHdaqOJXRvn8ddF+Or+vyZps6D2dEAGD+vL5AUK5LAL/RTaveY4aYmH7Nm//iextrQfD3Idue5SvQYKM5GuLC23wldEh47M91FHxOM28WqE//pHbppQqiIt/+85XBuwOTtdJGcnW3ysfQgugl2BkGDsA1SOifs1HDnjX/MwA9TRJCZCLrVz7krAhzLWergJYzlYXRO2LACR9wqznBtC5EecXGIgAjP6+qjep4XxSjzPO8YzVyUwgMWwCuUrM0bK10= 1000970000@jupyterhub-nb-brbaker-40redhat-2ecom\n"
     ]
    },
    {
     "data": {
      "text/plain": [
       "0"
      ]
     },
     "execution_count": 15,
     "metadata": {},
     "output_type": "execute_result"
    }
   ],
   "source": [
    "cmd =  \"cat \"+directory+key_file+\".pub\" \n",
    "os.system(cmd)"
   ]
  },
  {
   "cell_type": "code",
   "execution_count": 16,
   "id": "0faa937a-56ae-47f1-9b72-85a674edf965",
   "metadata": {},
   "outputs": [
    {
     "name": "stdout",
     "output_type": "stream",
     "text": [
      "NEXT STEPS:\n",
      "***********\n",
      "Copy the secret above to the Clipboard and add it to github as described in the lab instructions.\n"
     ]
    }
   ],
   "source": [
    "print(\"NEXT STEPS:\")\n",
    "print(\"*\"*11)\n",
    "print(\"Copy the secret above to the Clipboard and add it to github as described in the lab instructions.\") "
   ]
  },
  {
   "cell_type": "code",
   "execution_count": null,
   "id": "0a348e64-fb54-4f83-b6bc-9bd090f95305",
   "metadata": {},
   "outputs": [],
   "source": []
  }
 ],
 "metadata": {
  "kernelspec": {
   "display_name": "Python 3 (ipykernel)",
   "language": "python",
   "name": "python3"
  },
  "language_info": {
   "codemirror_mode": {
    "name": "ipython",
    "version": 3
   },
   "file_extension": ".py",
   "mimetype": "text/x-python",
   "name": "python",
   "nbconvert_exporter": "python",
   "pygments_lexer": "ipython3",
   "version": "3.8.8"
  }
 },
 "nbformat": 4,
 "nbformat_minor": 5
}
