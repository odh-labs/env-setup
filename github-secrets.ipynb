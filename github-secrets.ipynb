{
 "cells": [
  {
   "cell_type": "code",
   "execution_count": null,
   "id": "b2f00f3c-3f74-4e5d-b9a1-5c7d8fd89897",
   "metadata": {
    "pycharm": {
     "name": "#%%\n"
    }
   },
   "outputs": [],
   "source": [
    "import os"
   ]
  },
  {
   "cell_type": "code",
   "execution_count": null,
   "id": "0360886e-4a42-442e-adc5-44265835d6cc",
   "metadata": {
    "pycharm": {
     "name": "#%%\n"
    }
   },
   "outputs": [],
   "source": [
    "print(\"Generating secrets for ODH Workshops and Labs.\")\n",
    "print(\"*\"*50)"
   ]
  },
  {
   "cell_type": "code",
   "execution_count": null,
   "id": "37225c50-d711-489f-b140-df86a5a4f302",
   "metadata": {
    "pycharm": {
     "name": "#%%\n"
    }
   },
   "outputs": [],
   "source": [
    "directory = \"$HOME/.ssh\"\n",
    "key_file = \"id_rsa2\""
   ]
  },
  {
   "cell_type": "code",
   "execution_count": null,
   "id": "e708b0fa-6495-4acf-acff-2a05a2149ca5",
   "metadata": {
    "pycharm": {
     "name": "#%%\n"
    }
   },
   "outputs": [],
   "source": [
    "# Generate the secret\n",
    "cmd = 'ssh-keygen -t rsa -f \"'+directory+'/'+key_file +'\" -P \"\"'\n",
    "print(cmd)\n",
    "os.system(cmd)\n",
    "\n",
    "# Set the file permissions\n",
    "cmd = 'chmod 600 '+directory+'/'+key_file +'*'\n",
    "print(cmd)\n",
    "os.system(cmd)\n",
    "\n",
    "cmd = 'ls -l ' + directory\n",
    "print(cmd)\n",
    "os.system(cmd)"
   ]
  },
  {
   "cell_type": "code",
   "execution_count": null,
   "id": "1f736f43-d5b0-4892-ad6d-094a0b309882",
   "metadata": {
    "pycharm": {
     "name": "#%%\n"
    }
   },
   "outputs": [],
   "source": [
    "cmd =  \"cat \"+directory+'/'+key_file+\".pub\" \n",
    "os.system(cmd)"
   ]
  },
  {
   "cell_type": "code",
   "execution_count": 1,
   "id": "0faa937a-56ae-47f1-9b72-85a674edf965",
   "metadata": {
    "pycharm": {
     "name": "#%%\n"
    }
   },
   "outputs": [
    {
     "name": "stdout",
     "output_type": "stream",
     "text": [
      "NEXT STEPS:\n",
      "***********\n",
      "Copy the secret above to the Clipboard and add it to github as described in the lab instructions.\n"
     ]
    }
   ],
   "source": [
    "print(\"NEXT STEPS:\")\n",
    "print(\"*\"*11)\n",
    "print(\"Copy the secret above to the Clipboard and add it to github as described in the lab instructions.\")"
   ]
  },
  {
   "cell_type": "markdown",
   "source": [
    "# Generate the Github keys via Python\n",
    "```bash\n",
    "  pip install paramiko\n",
    "```\n",
    "> **Warning**\n",
    "> ⚠ Make sure that the private key is not in the folder that is destined for Git ⚠"
   ],
   "metadata": {
    "collapsed": false,
    "pycharm": {
     "name": "#%% md\n"
    }
   }
  },
  {
   "cell_type": "code",
   "execution_count": 3,
   "outputs": [
    {
     "name": "stdout",
     "output_type": "stream",
     "text": [
      "/Users/faisalmasood/Dropbox/noindex/tensorflow/github/odh-labs/env-setup\n"
     ]
    }
   ],
   "source": [
    "#make sure this is the folder which does not go into git such as /opt/app-root/src/.key\n",
    "import os\n",
    "current_directory = os.getcwd()\n",
    "print(current_directory)"
   ],
   "metadata": {
    "collapsed": false,
    "pycharm": {
     "name": "#%%\n"
    }
   }
  },
  {
   "cell_type": "code",
   "execution_count": 4,
   "outputs": [],
   "source": [
    "# generate key\n",
    "import paramiko\n",
    "\n",
    "key = paramiko.RSAKey.generate(4096)\n"
   ],
   "metadata": {
    "collapsed": false,
    "pycharm": {
     "name": "#%%\n"
    }
   }
  },
  {
   "cell_type": "code",
   "execution_count": 5,
   "outputs": [],
   "source": [
    "# write private key to the disk which is preserved /opt/app-root/src\n",
    "key.write_private_key_file( current_directory + '/github_id_rsa')"
   ],
   "metadata": {
    "collapsed": false,
    "pycharm": {
     "name": "#%%\n"
    }
   }
  },
  {
   "cell_type": "code",
   "execution_count": 6,
   "outputs": [],
   "source": [
    "# write public key\n",
    "with open(current_directory + \"/github_id_rsa.pub\",\"w\") as public:\n",
    "    public.write(\"%s %s\"  % (key.get_name(), key.get_base64()))\n",
    "\n",
    "public.close()\n"
   ],
   "metadata": {
    "collapsed": false,
    "pycharm": {
     "name": "#%%\n"
    }
   }
  },
  {
   "cell_type": "markdown",
   "source": [
    "# Gitconfig to use the key\n",
    "```bash\n",
    "    git config --global core.sshCommand \"ssh -i CURRENT_DIR/github_id_rsa -F /dev/null\"\n",
    "```"
   ],
   "metadata": {
    "collapsed": false,
    "pycharm": {
     "name": "#%% md\n"
    }
   }
  }
 ],
 "metadata": {
  "kernelspec": {
   "display_name": "Python 3 (ipykernel)",
   "language": "python",
   "name": "python3"
  },
  "language_info": {
   "codemirror_mode": {
    "name": "ipython",
    "version": 3
   },
   "file_extension": ".py",
   "mimetype": "text/x-python",
   "name": "python",
   "nbconvert_exporter": "python",
   "pygments_lexer": "ipython3",
   "version": "3.8.8"
  }
 },
 "nbformat": 4,
 "nbformat_minor": 5
}