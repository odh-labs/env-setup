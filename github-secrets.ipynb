{
 "cells": [
  {
   "cell_type": "code",
   "execution_count": 1,
   "id": "b2f00f3c-3f74-4e5d-b9a1-5c7d8fd89897",
   "metadata": {},
   "outputs": [],
   "source": [
    "import os"
   ]
  },
  {
   "cell_type": "code",
   "execution_count": 2,
   "id": "0360886e-4a42-442e-adc5-44265835d6cc",
   "metadata": {},
   "outputs": [
    {
     "name": "stdout",
     "output_type": "stream",
     "text": [
      "Generating secrets for ODH Workshops and Labs.\n",
      "**************************************************\n"
     ]
    }
   ],
   "source": [
    "print(\"Generating secrets for ODH Workshops and Labs.\")\n",
    "print(\"*\"*50)"
   ]
  },
  {
   "cell_type": "code",
   "execution_count": 6,
   "id": "37225c50-d711-489f-b140-df86a5a4f302",
   "metadata": {},
   "outputs": [
    {
     "name": "stdout",
     "output_type": "stream",
     "text": [
      "id_rsa2\n"
     ]
    }
   ],
   "source": [
    "key_file = \"id_rsa2\"\n",
    "print(key_file)"
   ]
  },
  {
   "cell_type": "code",
   "execution_count": 11,
   "id": "e708b0fa-6495-4acf-acff-2a05a2149ca5",
   "metadata": {},
   "outputs": [
    {
     "name": "stdout",
     "output_type": "stream",
     "text": [
      "ssh-keygen -t rsa -f \"$HOME/.ssh/id_rsa2\" -P \"\"\n",
      "Generating public/private rsa key pair.\n",
      "/opt/app-root/src/.ssh/id_rsa2 already exists.\n",
      "Overwrite (y/n)? "
     ]
    },
    {
     "data": {
      "text/plain": [
       "256"
      ]
     },
     "execution_count": 11,
     "metadata": {},
     "output_type": "execute_result"
    }
   ],
   "source": [
    "cmd = 'ssh-keygen -t rsa -f \"$HOME/.ssh/'+key_file +'\" -P \"\"'\n",
    "print(cmd)\n",
    "os.system(cmd)"
   ]
  },
  {
   "cell_type": "code",
   "execution_count": 12,
   "id": "1f736f43-d5b0-4892-ad6d-094a0b309882",
   "metadata": {},
   "outputs": [
    {
     "name": "stdout",
     "output_type": "stream",
     "text": [
      "ssh-rsa AAAAB3NzaC1yc2EAAAADAQABAAABgQCsWZqATJwnkdXgG6XCLmZrFrxBdo49va+FrJHbkgc4JSUz/ARHbYYKZcDdYgsQtIjQQ6HziKv4DPA4ZrMyh2nU0ZGi/Fp1OmLq4nIDuwpe3K2+xSjWqvcdnPCdWbaV7HaPXvx1GkixkZLSFml3xESqzTrNbnShpVzZ50OEDWSNSdHmE7+7XG39bwKZrk5/Zj0mePbxYaa0ZP3do4j8g+VGfFLo1dgm4w9BjjBdHfWHgr3uTocYMHGRsIRfdse2WmYOEPBktAX52+iV7Q+in2muaMSAGAM+Uf6JImv6N2IMSgtb1GoReea9AtxmjgaeqX+GkZTpGr+Z1S3tL6/GJ3lkVL7NMcK2h1WPLF36jKKSmp8yapo2JmKSfP9TnMOS72mhpRq0RcLgGxYhTShMGUfVBodSiIExaEIUpohQmfSLGdlG1NyIdcUXuRUjA5ZYOH6YL39JdjftdJcBEu5N8GBJr7KIHqMoAy1ytCiglOAGZ3hnPHB2S7htOeXkj9llu4c= 1000970000@jupyterhub-nb-brbaker-40redhat-2ecom\n"
     ]
    },
    {
     "data": {
      "text/plain": [
       "0"
      ]
     },
     "execution_count": 12,
     "metadata": {},
     "output_type": "execute_result"
    }
   ],
   "source": [
    "cmd =  \"cat ~/.ssh/\"+key_file+\".pub\" \n",
    "os.system(cmd)"
   ]
  },
  {
   "cell_type": "code",
   "execution_count": null,
   "id": "0faa937a-56ae-47f1-9b72-85a674edf965",
   "metadata": {},
   "outputs": [],
   "source": []
  }
 ],
 "metadata": {
  "kernelspec": {
   "display_name": "Python 3 (ipykernel)",
   "language": "python",
   "name": "python3"
  },
  "language_info": {
   "codemirror_mode": {
    "name": "ipython",
    "version": 3
   },
   "file_extension": ".py",
   "mimetype": "text/x-python",
   "name": "python",
   "nbconvert_exporter": "python",
   "pygments_lexer": "ipython3",
   "version": "3.8.8"
  }
 },
 "nbformat": 4,
 "nbformat_minor": 5
}
