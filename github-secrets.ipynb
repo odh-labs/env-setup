{
 "cells": [
  {
   "cell_type": "code",
   "execution_count": 9,
   "id": "b2f00f3c-3f74-4e5d-b9a1-5c7d8fd89897",
   "metadata": {},
   "outputs": [],
   "source": [
    "import os"
   ]
  },
  {
   "cell_type": "code",
   "execution_count": 10,
   "id": "0360886e-4a42-442e-adc5-44265835d6cc",
   "metadata": {},
   "outputs": [
    {
     "name": "stdout",
     "output_type": "stream",
     "text": [
      "Generating secrets for ODH Workshops and Labs.\n",
      "**************************************************\n"
     ]
    }
   ],
   "source": [
    "print(\"Generating secrets for ODH Workshops and Labs.\")\n",
    "print(\"*\"*50)"
   ]
  },
  {
   "cell_type": "code",
   "execution_count": 11,
   "id": "37225c50-d711-489f-b140-df86a5a4f302",
   "metadata": {},
   "outputs": [],
   "source": [
    "directory = \"~/.ssh/\"\n",
    "key_file = \"id_rsa2\""
   ]
  },
  {
   "cell_type": "code",
   "execution_count": 12,
   "id": "e708b0fa-6495-4acf-acff-2a05a2149ca5",
   "metadata": {},
   "outputs": [
    {
     "name": "stdout",
     "output_type": "stream",
     "text": [
      "ssh-keygen -t rsa -f \"~/.ssh/id_rsa2\" -P \"\"\n",
      "Generating public/private rsa key pair.\n"
     ]
    },
    {
     "name": "stderr",
     "output_type": "stream",
     "text": [
      "Saving key \"~/.ssh/id_rsa2\" failed: No such file or directory\n"
     ]
    },
    {
     "data": {
      "text/plain": [
       "256"
      ]
     },
     "execution_count": 12,
     "metadata": {},
     "output_type": "execute_result"
    }
   ],
   "source": [
    "cmd = 'ssh-keygen -t rsa -f \"'+directory+key_file +'\" -P \"\"'\n",
    "print(cmd)\n",
    "os.system(cmd)"
   ]
  },
  {
   "cell_type": "code",
   "execution_count": 7,
   "id": "1f736f43-d5b0-4892-ad6d-094a0b309882",
   "metadata": {},
   "outputs": [
    {
     "ename": "NameError",
     "evalue": "name 'os' is not defined",
     "output_type": "error",
     "traceback": [
      "\u001b[0;31m---------------------------------------------------------------------------\u001b[0m",
      "\u001b[0;31mNameError\u001b[0m                                 Traceback (most recent call last)",
      "Input \u001b[0;32mIn [7]\u001b[0m, in \u001b[0;36m<module>\u001b[0;34m\u001b[0m\n\u001b[1;32m      1\u001b[0m cmd \u001b[38;5;241m=\u001b[39m  \u001b[38;5;124m\"\u001b[39m\u001b[38;5;124mcat \u001b[39m\u001b[38;5;124m\"\u001b[39m\u001b[38;5;241m+\u001b[39mdirectory\u001b[38;5;241m+\u001b[39mkey_file\u001b[38;5;241m+\u001b[39m\u001b[38;5;124m\"\u001b[39m\u001b[38;5;124m.pub\u001b[39m\u001b[38;5;124m\"\u001b[39m \n\u001b[0;32m----> 2\u001b[0m \u001b[43mos\u001b[49m\u001b[38;5;241m.\u001b[39msystem(cmd)\n",
      "\u001b[0;31mNameError\u001b[0m: name 'os' is not defined"
     ]
    }
   ],
   "source": [
    "cmd =  \"cat \"+directory+key_file+\".pub\" \n",
    "os.system(cmd)"
   ]
  },
  {
   "cell_type": "code",
   "execution_count": 8,
   "id": "0faa937a-56ae-47f1-9b72-85a674edf965",
   "metadata": {},
   "outputs": [
    {
     "name": "stdout",
     "output_type": "stream",
     "text": [
      "NEXT STEPS:\n",
      "***********\n",
      "Copy the secret above to the Clipboard and add it to github as described in the lab instructions.\n"
     ]
    }
   ],
   "source": [
    "print(\"NEXT STEPS:\")\n",
    "print(\"*\"*11)\n",
    "print(\"Copy the secret above to the Clipboard and add it to github as described in the lab instructions.\") "
   ]
  },
  {
   "cell_type": "code",
   "execution_count": null,
   "id": "0a348e64-fb54-4f83-b6bc-9bd090f95305",
   "metadata": {},
   "outputs": [],
   "source": []
  }
 ],
 "metadata": {
  "kernelspec": {
   "display_name": "Python 3 (ipykernel)",
   "language": "python",
   "name": "python3"
  },
  "language_info": {
   "codemirror_mode": {
    "name": "ipython",
    "version": 3
   },
   "file_extension": ".py",
   "mimetype": "text/x-python",
   "name": "python",
   "nbconvert_exporter": "python",
   "pygments_lexer": "ipython3",
   "version": "3.8.8"
  }
 },
 "nbformat": 4,
 "nbformat_minor": 5
}
