{
 "cells": [
  {
   "cell_type": "markdown",
   "id": "2ce052b6",
   "metadata": {
    "pycharm": {
     "name": "#%% md\n"
    }
   },
   "source": [
    "# Generate the Github keys via Python\n",
    "\n",
    "> **Warning**\n",
    "> ⚠ Make sure that the private key is not in the folder that is destined for Git ⚠"
   ]
  },
  {
   "cell_type": "code",
   "execution_count": null,
   "id": "ad162d83-b0ae-4070-bcd0-1df12308043b",
   "metadata": {},
   "outputs": [],
   "source": [
    "!pip3 install paramiko"
   ]
  },
  {
   "cell_type": "code",
   "execution_count": null,
   "id": "06696e27",
   "metadata": {
    "collapsed": false,
    "jupyter": {
     "outputs_hidden": false
    },
    "pycharm": {
     "name": "#%%\n"
    }
   },
   "outputs": [],
   "source": [
    "import os\n",
    "import paramiko"
   ]
  },
  {
   "cell_type": "code",
   "execution_count": null,
   "id": "13fcc99e-d5ba-4f06-87b3-b4c206960824",
   "metadata": {},
   "outputs": [],
   "source": [
    "# Make sure this is the folder which does not go into git such as /opt/app-root/src/.key\n",
    "current_directory = os.getcwd()\n",
    "print(current_directory)"
   ]
  },
  {
   "cell_type": "code",
   "execution_count": null,
   "id": "b1589511",
   "metadata": {
    "collapsed": false,
    "jupyter": {
     "outputs_hidden": false
    },
    "pycharm": {
     "name": "#%%\n"
    }
   },
   "outputs": [],
   "source": [
    "# generate key\n",
    "key = paramiko.RSAKey.generate(4096)"
   ]
  },
  {
   "cell_type": "code",
   "execution_count": null,
   "id": "f8d5c817-1d07-4876-8e40-49dabd5da757",
   "metadata": {
    "collapsed": false,
    "jupyter": {
     "outputs_hidden": false
    },
    "pycharm": {
     "name": "#%%\n"
    }
   },
   "outputs": [],
   "source": [
    "# write private key to the disk which is preserved /opt/app-root/src\n",
    "key.write_private_key_file( current_directory + '/github_id_rsa')"
   ]
  },
  {
   "cell_type": "code",
   "execution_count": null,
   "id": "d613a35a-d5bc-4fc3-9497-e509aae41c1b",
   "metadata": {
    "collapsed": false,
    "jupyter": {
     "outputs_hidden": false
    },
    "pycharm": {
     "name": "#%%\n"
    }
   },
   "outputs": [],
   "source": [
    "# write public key\n",
    "with open(current_directory + \"/github_id_rsa.pub\",\"w\") as public:\n",
    "    public.write(\"%s %s\"  % (key.get_name(), key.get_base64()))\n",
    "\n",
    "public.close()\n"
   ]
  },
  {
   "cell_type": "code",
   "execution_count": null,
   "id": "8579a175-e488-4c4f-a6f1-3a32ac797de8",
   "metadata": {},
   "outputs": [],
   "source": [
    "# Update the git configutation to use the new secret.\n",
    "cmd = 'git config --global core.sshCommand \"ssh -i '+current_directory+'/github_id_rsa -F /dev/null\"'\n",
    "print(cmd)\n",
    "os.system(cmd)"
   ]
  },
  {
   "cell_type": "markdown",
   "id": "1c122354-4ba5-430a-8d5d-b46c5c8a18e0",
   "metadata": {},
   "source": [
    "# Key to import into GitHub\n",
    "\n",
    "Follow the lab instructions to copy the key below and paste it into github."
   ]
  },
  {
   "cell_type": "code",
   "execution_count": null,
   "id": "39338270-1af2-4b5a-b563-49983ed26e9e",
   "metadata": {},
   "outputs": [],
   "source": [
    "cmd = 'cat \"'+current_directory+'/github_id_rsa.pub\"'\n",
    "#print(cmd)    # Uncomment this if you run into trouble.\n",
    "os.system(cmd)"
   ]
  }
 ],
 "metadata": {
  "kernelspec": {
   "display_name": "Python 3 (ipykernel)",
   "language": "python",
   "name": "python3"
  },
  "language_info": {
   "codemirror_mode": {
    "name": "ipython",
    "version": 3
   },
   "file_extension": ".py",
   "mimetype": "text/x-python",
   "name": "python",
   "nbconvert_exporter": "python",
   "pygments_lexer": "ipython3",
   "version": "3.8.8"
  }
 },
 "nbformat": 4,
 "nbformat_minor": 5
}
